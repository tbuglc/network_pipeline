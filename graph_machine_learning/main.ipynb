{
 "cells": [
  {
   "cell_type": "code",
   "execution_count": 15,
   "metadata": {},
   "outputs": [
    {
     "name": "stdout",
     "output_type": "stream",
     "text": [
      "The autoreload extension is already loaded. To reload it, use:\n",
      "  %reload_ext autoreload\n"
     ]
    }
   ],
   "source": [
    "%load_ext autoreload \n",
    "%autoreload 2"
   ]
  },
  {
   "cell_type": "code",
   "execution_count": 57,
   "metadata": {},
   "outputs": [],
   "source": [
    "import seaborn as ss\n",
    "from manager.data import DataManager\n",
    "from factory.classfication_factory import ClassificationFactory\n",
    "from factory.regression_factory import RegressionFactory\n",
    "from constants.classification_models import ClassificationModels\n",
    "from constants.regression_models import RegressionModels\n",
    "\n"
   ]
  },
  {
   "cell_type": "code",
   "execution_count": 58,
   "metadata": {},
   "outputs": [],
   "source": [
    "data_manager = DataManager(min_sample_label=10)\n",
    "\n",
    "data, x_train, x_val, t_train, t_val, = data_manager.get_data()\n",
    "\n",
    "accorderie = [[10, 0, 0.02, 4.04, 0.05, 4.86, 0.06, 75.33]]"
   ]
  },
  {
   "cell_type": "code",
   "execution_count": 37,
   "metadata": {},
   "outputs": [
    {
     "name": "stdout",
     "output_type": "stream",
     "text": [
      "(267, 1)\n"
     ]
    }
   ],
   "source": [
    "print(t_val.shape)"
   ]
  },
  {
   "cell_type": "code",
   "execution_count": null,
   "metadata": {},
   "outputs": [],
   "source": [
    "ss.heatmap(data.corr().fillna(0), cmap=\"YlGnBu\", annot=True, vmin=-1, vmax=1,linewidths=.5, cbar=True, square=True, fmt='.1f')"
   ]
  },
  {
   "cell_type": "code",
   "execution_count": null,
   "metadata": {},
   "outputs": [],
   "source": [
    "ss.pairplot(data)"
   ]
  },
  {
   "cell_type": "code",
   "execution_count": null,
   "metadata": {},
   "outputs": [],
   "source": [
    "from sklearn.decomposition import PCA\n",
    "import matplotlib.pyplot as plt\n",
    "from sklearn.preprocessing import StandardScaler\n",
    "import numpy as np\n",
    "\n",
    "pca = PCA(n_components=2)\n",
    "X = data.iloc[:,:-3]\n",
    "y = data.iloc[:, -3:]\n",
    "\n",
    "X = StandardScaler().fit_transform(X)\n",
    "\n",
    "X_pca = pca.fit_transform(X)\n",
    "\n",
    "columns = y.shape[1]\n",
    "print(y.shape)\n",
    "fig, axes = plt.subplots(2, columns)\n",
    "print()\n",
    "for i in range(columns):\n",
    "    axes[0, i].scatter(X_pca[:,0], X_pca[:,1], c=y.iloc[:,i], label=np.unique(y.iloc[:,i]))\n",
    "    axes[0, i].set_xlabel(\"Principal Component 1\")\n",
    "    axes[0, i].set_ylabel(\"Principal Component 2\")\n",
    "    axes[0, i].set_title(f\"Target variable {i+1}\")\n",
    "    \n",
    "    axes[1, i].hist(y.iloc[:, i], bins=20)\n",
    "    axes[1, i].set_xlabel(\"Target value\")\n",
    "    axes[1, i].set_ylabel(\"Frequency\")\n",
    "    \n",
    "# fig.tight_layout()\n",
    "plt.legend()\n",
    "# plt.colorbar()\n",
    "plt.show()\n"
   ]
  },
  {
   "cell_type": "code",
   "execution_count": 59,
   "metadata": {},
   "outputs": [
    {
     "name": "stdout",
     "output_type": "stream",
     "text": [
      "ElasticNetRegression\n",
      "Accuracy:  0.1577938708488364\n"
     ]
    },
    {
     "data": {
      "text/plain": [
       "array([[0.49821429, 0.58599624, 0.67969925]])"
      ]
     },
     "execution_count": 59,
     "metadata": {},
     "output_type": "execute_result"
    }
   ],
   "source": [
    "model = RegressionFactory.get_model(RegressionModels.ELASTIC_NET)\n",
    "\n",
    "model.train(x_train=x_train,x_val=x_val,t_train=t_train,t_val=t_val)\n",
    "model.predict(x_val=accorderie)"
   ]
  },
  {
   "cell_type": "code",
   "execution_count": 61,
   "metadata": {},
   "outputs": [
    {
     "name": "stdout",
     "output_type": "stream",
     "text": [
      "DecisionTreeRegression\n",
      "Error:  0.20775280898876416\n"
     ]
    },
    {
     "data": {
      "text/plain": [
       "array([[0.4, 0.1, 2. ]])"
      ]
     },
     "execution_count": 61,
     "metadata": {},
     "output_type": "execute_result"
    }
   ],
   "source": [
    "model = RegressionFactory.get_model(RegressionModels.DECISION_TREE)\n",
    "\n",
    "model.train(x_train=x_train,x_val=x_val,t_train=t_train,t_val=t_val)\n",
    "model.predict(x_val=accorderie)"
   ]
  },
  {
   "cell_type": "code",
   "execution_count": 62,
   "metadata": {},
   "outputs": [
    {
     "name": "stdout",
     "output_type": "stream",
     "text": [
      "LasoRegressione Model\n",
      "Error:  0.1577938708488364\n"
     ]
    },
    {
     "data": {
      "text/plain": [
       "array([[0.49821429, 0.58599624, 0.67969925]])"
      ]
     },
     "execution_count": 62,
     "metadata": {},
     "output_type": "execute_result"
    }
   ],
   "source": [
    "model = RegressionFactory.get_model(RegressionModels.LASO)\n",
    "\n",
    "model.train(x_train=x_train,x_val=x_val,t_train=t_train,t_val=t_val)\n",
    "model.predict(x_val=accorderie)"
   ]
  },
  {
   "cell_type": "code",
   "execution_count": 63,
   "metadata": {},
   "outputs": [
    {
     "name": "stdout",
     "output_type": "stream",
     "text": [
      "RandomForestRegression\n",
      "Error:  0.12356094382022464\n"
     ]
    },
    {
     "data": {
      "text/plain": [
       "array([[0.44 , 0.198, 1.22 ]])"
      ]
     },
     "execution_count": 63,
     "metadata": {},
     "output_type": "execute_result"
    }
   ],
   "source": [
    "model = RegressionFactory.get_model(RegressionModels.RANDOM_FOREST)\n",
    "\n",
    "model.train(x_train=x_train,x_val=x_val,t_train=t_train,t_val=t_val)\n",
    "model.predict(x_val=accorderie)"
   ]
  },
  {
   "cell_type": "code",
   "execution_count": 64,
   "metadata": {},
   "outputs": [
    {
     "name": "stdout",
     "output_type": "stream",
     "text": [
      "RidgeRegressionl\n",
      "Error:  0.10531772337920751\n"
     ]
    },
    {
     "data": {
      "text/plain": [
       "array([[ 0.250496  , -2.54423007,  0.28662204]])"
      ]
     },
     "execution_count": 64,
     "metadata": {},
     "output_type": "execute_result"
    }
   ],
   "source": [
    "model = RegressionFactory.get_model(RegressionModels.RIDGE)\n",
    "\n",
    "model.train(x_train=x_train,x_val=x_val,t_train=t_train,t_val=t_val)\n",
    "model.predict(x_val=accorderie)"
   ]
  }
 ],
 "metadata": {
  "kernelspec": {
   "display_name": "Python 3",
   "language": "python",
   "name": "python3"
  },
  "language_info": {
   "codemirror_mode": {
    "name": "ipython",
    "version": 3
   },
   "file_extension": ".py",
   "mimetype": "text/x-python",
   "name": "python",
   "nbconvert_exporter": "python",
   "pygments_lexer": "ipython3",
   "version": "3.11.2"
  },
  "orig_nbformat": 4,
  "vscode": {
   "interpreter": {
    "hash": "c5e2dd1cbe1f4896ca9eed4774742727d8fbcd7dc034097265272ce394987b5c"
   }
  }
 },
 "nbformat": 4,
 "nbformat_minor": 2
}
